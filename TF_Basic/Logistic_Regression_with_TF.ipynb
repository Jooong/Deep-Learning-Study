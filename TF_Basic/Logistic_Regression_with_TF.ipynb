{
 "cells": [
  {
   "cell_type": "code",
   "execution_count": 220,
   "metadata": {
    "collapsed": false
   },
   "outputs": [],
   "source": [
    "import tensorflow as tf\n",
    "import numpy as np\n",
    "import pandas as pd\n",
    "from sklearn.preprocessing import StandardScaler"
   ]
  },
  {
   "cell_type": "markdown",
   "metadata": {},
   "source": [
    "# 변수 정의"
   ]
  },
  {
   "cell_type": "code",
   "execution_count": 17,
   "metadata": {
    "collapsed": true
   },
   "outputs": [],
   "source": [
    "df = pd.read_csv('data.csv')"
   ]
  },
  {
   "cell_type": "code",
   "execution_count": 239,
   "metadata": {
    "collapsed": false,
    "scrolled": true
   },
   "outputs": [],
   "source": [
    "X_data_raw = df.loc[:,lambda x: (x.columns != 'id')&(x.columns != 'diagnosis')&(x.columns != 'Unnamed: 32')]\n",
    "Y_data = df['diagnosis'].map(lambda x: 1 if x == 'M' else 0).reshape(-1,1).astype(np.float32)"
   ]
  },
  {
   "cell_type": "markdown",
   "metadata": {},
   "source": [
    "#### 요기 표준화 과정을 거치지 않아서 계속 loss가 줄지 않았었어요 ㅠㅠ"
   ]
  },
  {
   "cell_type": "code",
   "execution_count": 243,
   "metadata": {
    "collapsed": true
   },
   "outputs": [],
   "source": [
    "std = StandardScaler()\n",
    "std.fit(X_data_raw)\n",
    "X_data = std.transform(X_data_raw).astype(np.float32)"
   ]
  },
  {
   "cell_type": "code",
   "execution_count": 244,
   "metadata": {
    "collapsed": false
   },
   "outputs": [],
   "source": [
    "dimX = X_data.shape[1]\n",
    "dimY = 1\n",
    "nData = X_data.shape[0]"
   ]
  },
  {
   "cell_type": "code",
   "execution_count": 245,
   "metadata": {
    "collapsed": true
   },
   "outputs": [],
   "source": [
    "X = tf.placeholder(tf.float32, [None, dimX], name=\"input\")\n",
    "Y= tf.placeholder(tf.float32, [None, dimY], name=\"output\")\n",
    "W = tf.Variable(tf.random_uniform([dimX, dimY]), name=\"weight\")\n",
    "b = tf.Variable(tf.random_uniform([dimY]), name=\"bias\")"
   ]
  },
  {
   "cell_type": "markdown",
   "metadata": {},
   "source": [
    "# 모델링"
   ]
  },
  {
   "cell_type": "code",
   "execution_count": 246,
   "metadata": {
    "collapsed": false
   },
   "outputs": [],
   "source": [
    "Y_pred = tf.sigmoid(tf.matmul(X, W) + b)\n",
    "\n",
    "loss = tf.reduce_mean(-Y*tf.log(Y_pred -(1e-9))-(1-Y)*tf.log(1-Y_pred+(1e-9)))"
   ]
  },
  {
   "cell_type": "code",
   "execution_count": 259,
   "metadata": {
    "collapsed": false
   },
   "outputs": [],
   "source": [
    "learning_rate = 0.01\n",
    "optimizer = tf.train.GradientDescentOptimizer(learning_rate).minimize(loss)\n",
    "training_epochs = 2000\n",
    "display_epoch = 100\n"
   ]
  },
  {
   "cell_type": "code",
   "execution_count": 249,
   "metadata": {
    "collapsed": false
   },
   "outputs": [
    {
     "name": "stdout",
     "output_type": "stream",
     "text": [
      "0.643563\n"
     ]
    }
   ],
   "source": [
    "with tf.Session() as sess:\n",
    "    sess.run(tf.global_variables_initializer())\n",
    "    sess.run(optimizer, feed_dict={X: X_data, Y:Y_data})\n",
    "    print(sess.run(loss, feed_dict={X: X_data, Y:Y_data}))\n"
   ]
  },
  {
   "cell_type": "markdown",
   "metadata": {},
   "source": [
    "# 학습"
   ]
  },
  {
   "cell_type": "markdown",
   "metadata": {},
   "source": [
    "#### 에 앞서 평가 기준 작성"
   ]
  },
  {
   "cell_type": "code",
   "execution_count": 256,
   "metadata": {
    "collapsed": false
   },
   "outputs": [],
   "source": [
    "accuracy = 1- tf.reduce_mean((Y_pred - Y)**2)"
   ]
  },
  {
   "cell_type": "code",
   "execution_count": 260,
   "metadata": {
    "collapsed": false,
    "scrolled": true
   },
   "outputs": [
    {
     "name": "stdout",
     "output_type": "stream",
     "text": [
      "(epoch 100)\n",
      "[Loss / Training Accuracy] 0.2131 / 0.9438\n",
      "0.213059\n",
      " \n",
      "(epoch 200)\n",
      "[Loss / Training Accuracy] 0.1603 / 0.9551\n",
      "0.16034\n",
      " \n",
      "(epoch 300)\n",
      "[Loss / Training Accuracy] 0.1271 / 0.9631\n",
      "0.12711\n",
      " \n",
      "(epoch 400)\n",
      "[Loss / Training Accuracy] 0.1073 / 0.9692\n",
      "0.107288\n",
      " \n",
      "(epoch 500)\n",
      "[Loss / Training Accuracy] 0.0970 / 0.9729\n",
      "0.0970053\n",
      " \n",
      "(epoch 600)\n",
      "[Loss / Training Accuracy] 0.0913 / 0.9750\n",
      "0.0913055\n",
      " \n",
      "(epoch 700)\n",
      "[Loss / Training Accuracy] 0.0876 / 0.9764\n",
      "0.0876091\n",
      " \n",
      "(epoch 800)\n",
      "[Loss / Training Accuracy] 0.0850 / 0.9773\n",
      "0.0849605\n",
      " \n",
      "(epoch 900)\n",
      "[Loss / Training Accuracy] 0.0829 / 0.9781\n",
      "0.0829362\n",
      " \n",
      "(epoch 1000)\n",
      "[Loss / Training Accuracy] 0.0813 / 0.9787\n",
      "0.0813162\n",
      " \n",
      "(epoch 1100)\n",
      "[Loss / Training Accuracy] 0.0800 / 0.9792\n",
      "0.0799743\n",
      " \n",
      "(epoch 1200)\n",
      "[Loss / Training Accuracy] 0.0788 / 0.9796\n",
      "0.0788323\n",
      " \n",
      "(epoch 1300)\n",
      "[Loss / Training Accuracy] 0.0778 / 0.9799\n",
      "0.0778392\n",
      " \n",
      "(epoch 1400)\n",
      "[Loss / Training Accuracy] 0.0770 / 0.9802\n",
      "0.0769606\n",
      " \n",
      "(epoch 1500)\n",
      "[Loss / Training Accuracy] 0.0762 / 0.9805\n",
      "0.0761723\n",
      " \n",
      "(epoch 1600)\n",
      "[Loss / Training Accuracy] 0.0755 / 0.9808\n",
      "0.075457\n",
      " \n",
      "(epoch 1700)\n",
      "[Loss / Training Accuracy] 0.0748 / 0.9810\n",
      "0.0748019\n",
      " \n",
      "(epoch 1800)\n",
      "[Loss / Training Accuracy] 0.0742 / 0.9812\n",
      "0.0741973\n",
      " \n",
      "(epoch 1900)\n",
      "[Loss / Training Accuracy] 0.0736 / 0.9814\n",
      "0.0736356\n",
      " \n",
      "(epoch 2000)\n",
      "[Loss / Training Accuracy] 0.0731 / 0.9815\n",
      "0.073111\n",
      " \n"
     ]
    }
   ],
   "source": [
    "with tf.Session() as sess:\n",
    "    sess.run(tf.global_variables_initializer())\n",
    "\n",
    "    for epoch in range(training_epochs):\n",
    "        sess.run(optimizer, feed_dict={X:X_data, Y:Y_data})\n",
    "          \n",
    "        if (epoch+1) % display_epoch == 0:\n",
    "            loss_temp = sess.run(loss, feed_dict={X: X_data, Y:Y_data}) \n",
    "            accuracy_temp = accuracy.eval({X: X_data, Y:Y_data})\n",
    "            print(\"(epoch {})\".format(epoch+1))\n",
    "            print(\"[Loss / Training Accuracy] {:05.4f} / {:05.4f}\".format(loss_temp, accuracy_temp))\n",
    "            print(loss_temp)\n",
    "            print(\" \")"
   ]
  }
 ],
 "metadata": {
  "anaconda-cloud": {},
  "kernelspec": {
   "display_name": "Python [Root]",
   "language": "python",
   "name": "Python [Root]"
  },
  "language_info": {
   "codemirror_mode": {
    "name": "ipython",
    "version": 3
   },
   "file_extension": ".py",
   "mimetype": "text/x-python",
   "name": "python",
   "nbconvert_exporter": "python",
   "pygments_lexer": "ipython3",
   "version": "3.5.2"
  }
 },
 "nbformat": 4,
 "nbformat_minor": 0
}
